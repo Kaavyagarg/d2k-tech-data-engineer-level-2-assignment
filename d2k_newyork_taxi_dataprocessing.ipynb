{
  "nbformat": 4,
  "nbformat_minor": 0,
  "metadata": {
    "colab": {
      "provenance": [],
      "authorship_tag": "ABX9TyOBbPVfsM0i4ckoM7GLS8Xt",
      "include_colab_link": true
    },
    "kernelspec": {
      "name": "python3",
      "display_name": "Python 3"
    },
    "language_info": {
      "name": "python"
    }
  },
  "cells": [
    {
      "cell_type": "markdown",
      "metadata": {
        "id": "view-in-github",
        "colab_type": "text"
      },
      "source": [
        "<a href=\"https://colab.research.google.com/github/Kaavyagarg/d2k_newyork_taxi_data_processing/blob/main/d2k_newyork_taxi_dataprocessing.ipynb\" target=\"_parent\"><img src=\"https://colab.research.google.com/assets/colab-badge.svg\" alt=\"Open In Colab\"/></a>"
      ]
    },
    {
      "cell_type": "code",
      "source": [
        "import requests\n",
        "import os\n",
        "from datetime import datetime, timedelta\n",
        "\n",
        "# Define the base URL for the dataset\n",
        "base_url = \"https://www.nyc.gov/site/tlc/about/tlc-trip-record-data.page\"\n",
        "\n",
        "# Define the year and month range\n",
        "year = 2019\n",
        "months = range(1, 13)\n",
        "\n",
        "# Create a directory to store the downloaded files\n",
        "data_dir = \"data\"\n",
        "if not os.path.exists(data_dir):\n",
        "    os.makedirs(data_dir)\n",
        "\n",
        "# Define a function to download a file\n",
        "def download_file(url, filename):\n",
        "    retries = 3\n",
        "    while retries > 0:\n",
        "        try:\n",
        "            response = requests.get(url, stream=True)\n",
        "            with open(filename, \"wb\") as f:\n",
        "                for chunk in response.iter_content(1024):\n",
        "                    f.write(chunk)\n",
        "            print(f\"Downloaded {filename}\")\n",
        "            return\n",
        "        except requests.exceptions.RequestException as e:\n",
        "            print(f\"Error downloading {filename}: {e}\")\n",
        "            retries -= 1\n",
        "    print(f\"Failed to download {filename} after {3} retries\")\n",
        "\n",
        "# Download the files\n",
        "for month in months:\n",
        "    filename = f\"yellow_tripdata_{year}-{month:02d}.csv\"\n",
        "    url = f\"{base_url}yellow_tripdata_{year}-{month:02d}.csv\"\n",
        "    download_file(url, os.path.join(data_dir, filename))"
      ],
      "metadata": {
        "id": "lisqmwPJxLOs"
      },
      "execution_count": null,
      "outputs": []
    },
    {
      "cell_type": "code",
      "source": [
        "# !pip install pyarrow"
      ],
      "metadata": {
        "id": "Vh2_69MDPhEl",
        "collapsed": true
      },
      "execution_count": null,
      "outputs": []
    },
    {
      "cell_type": "code",
      "source": [
        "\n",
        "# import pandas as pd\n",
        "\n",
        "# # Read the Parquet file\n",
        "# df = pd.read_parquet('yellow_tripdata_2019-01.parquet')\n",
        "\n"
      ],
      "metadata": {
        "id": "5WJnUzTxP8Jm",
        "collapsed": true
      },
      "execution_count": null,
      "outputs": []
    },
    {
      "cell_type": "code",
      "source": [
        "column_names = df.columns\n",
        "print(column_names)"
      ],
      "metadata": {
        "colab": {
          "base_uri": "https://localhost:8080/"
        },
        "id": "h937Wzy2QRHq",
        "outputId": "39127e5f-8a87-456d-f792-641921de6ba1"
      },
      "execution_count": null,
      "outputs": [
        {
          "output_type": "stream",
          "name": "stdout",
          "text": [
            "Index(['VendorID', 'tpep_pickup_datetime', 'tpep_dropoff_datetime',\n",
            "       'passenger_count', 'trip_distance', 'RatecodeID', 'store_and_fwd_flag',\n",
            "       'PULocationID', 'DOLocationID', 'payment_type', 'fare_amount', 'extra',\n",
            "       'mta_tax', 'tip_amount', 'tolls_amount', 'improvement_surcharge',\n",
            "       'total_amount', 'congestion_surcharge', 'airport_fee'],\n",
            "      dtype='object')\n"
          ]
        }
      ]
    },
    {
      "cell_type": "code",
      "source": [
        "# for filename in os.listdir(data_dir):\n",
        "#     print(f\"File: {filename}, Extension: {filename.split('.')[-1]}\")"
      ],
      "metadata": {
        "id": "0pxK18FSd2dO",
        "colab": {
          "base_uri": "https://localhost:8080/"
        },
        "outputId": "b2bbe6c0-8548-4f0b-fce8-dded265fe4c2",
        "collapsed": true
      },
      "execution_count": null,
      "outputs": [
        {
          "output_type": "stream",
          "name": "stdout",
          "text": [
            "File: yellow_tripdata_2019-12.csv, Extension: csv\n",
            "File: yellow_tripdata_2019-05.csv, Extension: csv\n",
            "File: yellow_tripdata_2019-10.csv, Extension: csv\n",
            "File: yellow_tripdata_2019-11.csv, Extension: csv\n",
            "File: yellow_tripdata_2019-04.csv, Extension: csv\n",
            "File: yellow_tripdata_2019-08.csv, Extension: csv\n",
            "File: yellow_tripdata_2019-06.csv, Extension: csv\n",
            "File: yellow_tripdata_2019-07.csv, Extension: csv\n",
            "File: yellow_tripdata_2019-01.csv, Extension: csv\n",
            "File: yellow_tripdata_2019-09.csv, Extension: csv\n",
            "File: yellow_tripdata_2019-03.csv, Extension: csv\n",
            "File: yellow_tripdata_2019-02.csv, Extension: csv\n"
          ]
        }
      ]
    },
    {
      "cell_type": "code",
      "source": [
        "import pandas as pd\n",
        "import os\n",
        "\n",
        "# Define the data directory\n",
        "data_dir = \"data\"\n",
        "\n",
        "# Define the column names\n",
        "column_names = ['VendorID', 'tpep_pickup_datetime', 'tpep_dropoff_datetime', 'passenger_count', 'trip_distance', 'RatecodeID', 'store_and_fwd_flag', 'PULocationID', 'DOLocationID', 'payment_type', 'fare_amount', 'extra', 'mta_tax', 'tip_amount', 'tolls_amount', 'improvement_surcharge', 'total_amount', 'congestion_surcharge', 'airport_fee']\n",
        "\n",
        "# Create a list to store the DataFrames\n",
        "dfs = []\n",
        "\n",
        "# Iterate through the CSV files in the data directory\n",
        "for filename in os.listdir(data_dir):\n",
        "    if filename.endswith(\".csv\"):\n",
        "        csv_file = os.path.join(data_dir, filename)\n",
        "        print(f\"Processing {csv_file}...\")\n",
        "        # Read the CSV file into a Pandas DataFrame\n",
        "        df = pd.read_csv(csv_file, names=column_names, header=None)\n",
        "\n",
        "        # Remove any trips with missing or corrupt data\n",
        "        df.dropna(inplace=True)\n",
        "\n",
        "        # Convert datetime columns to datetime format\n",
        "        df['tpep_pickup_datetime'] = pd.to_datetime(df['tpep_pickup_datetime'])\n",
        "        df['tpep_dropoff_datetime'] = pd.to_datetime(df['tpep_dropoff_datetime'])\n",
        "\n",
        "        # Derive new columns: trip duration and average speed\n",
        "        df['trip_duration'] = (df['tpep_dropoff_datetime'] - df['tpep_pickup_datetime']).dt.total_seconds() / 60\n",
        "        df['average_speed'] = df['trip_distance'] / df['trip_duration']\n",
        "\n",
        "        # Append the processed DataFrame to the list\n",
        "        dfs.append(df)\n",
        "\n",
        "# Concatenate the DataFrames into a single DataFrame\n",
        "df = pd.concat(dfs, ignore_index=True)\n",
        "\n",
        "# Aggregate data to calculate total trips and average fare per day\n",
        "df['date'] = df['tpep_pickup_datetime'].dt.date\n",
        "daily_trips = df.groupby('date').size().reset_index(name='total_trips')\n",
        "daily_fare = df.groupby('date')['fare_amount'].mean().reset_index(name='average_fare')\n",
        "\n",
        "# Merge the daily trips and fare DataFrames\n",
        "daily_data = pd.merge(daily_trips, daily_fare, on='date')\n",
        "\n",
        "print(\"Data processing complete!\")\n",
        "print(daily_data.head())"
      ],
      "metadata": {
        "colab": {
          "base_uri": "https://localhost:8080/"
        },
        "id": "2o68pfWPgBMz",
        "outputId": "d22c5c10-b709-4d0a-ac8e-d4727fd7006f"
      },
      "execution_count": 9,
      "outputs": [
        {
          "output_type": "stream",
          "name": "stdout",
          "text": [
            "Processing data/yellow_tripdata_2019-08.csv...\n",
            "Processing data/yellow_tripdata_2019-01.csv...\n",
            "Processing data/yellow_tripdata_2019-04.csv...\n",
            "Processing data/yellow_tripdata_2019-11.csv...\n",
            "Processing data/yellow_tripdata_2019-07.csv...\n",
            "Processing data/yellow_tripdata_2019-09.csv...\n",
            "Processing data/yellow_tripdata_2019-05.csv...\n",
            "Processing data/yellow_tripdata_2019-10.csv...\n",
            "Processing data/yellow_tripdata_2019-03.csv...\n",
            "Processing data/yellow_tripdata_2019-06.csv...\n",
            "Processing data/yellow_tripdata_2019-12.csv...\n",
            "Processing data/yellow_tripdata_2019-02.csv...\n",
            "Data processing complete!\n",
            "Empty DataFrame\n",
            "Columns: [total_trips, date, average_fare]\n",
            "Index: []\n"
          ]
        }
      ]
    },
    {
      "cell_type": "code",
      "source": [
        "import pandas as pd\n",
        "import os\n",
        "\n",
        "# Define the data directory\n",
        "data_dir = \"data\"\n",
        "\n",
        "# Define the column names\n",
        "column_names = ['VendorID', 'tpep_pickup_datetime', 'tpep_dropoff_datetime', 'passenger_count', 'trip_distance', 'RatecodeID', 'store_and_fwd_flag', 'PULocationID', 'DOLocationID', 'payment_type', 'fare_amount', 'extra', 'mta_tax', 'tip_amount', 'tolls_amount', 'improvement_surcharge', 'total_amount', 'congestion_surcharge', 'airport_fee']\n",
        "\n",
        "# Create a list to store the DataFrames\n",
        "dfs = []\n",
        "\n",
        "# Iterate through the CSV files in the data directory\n",
        "for filename in os.listdir(data_dir):\n",
        "    if filename.endswith(\".csv\"):\n",
        "        csv_file = os.path.join(data_dir, filename)\n",
        "        print(f\"Processing {csv_file}...\")\n",
        "        # Read the CSV file into a Pandas DataFrame\n",
        "        df = pd.read_csv(csv_file, names=column_names, header=None, na_values=['NA', 'None', 'nan', ''])\n",
        "\n",
        "        print(f\"Initial DataFrame shape: {df.shape}\")\n",
        "\n",
        "        # Remove any trips with missing or corrupt data\n",
        "        df.dropna(inplace=True)\n",
        "\n",
        "        print(f\"DataFrame shape after dropping NA: {df.shape}\")\n",
        "\n",
        "        # Convert datetime columns to datetime format\n",
        "        df['tpep_pickup_datetime'] = pd.to_datetime(df['tpep_pickup_datetime'])\n",
        "        df['tpep_dropoff_datetime'] = pd.to_datetime(df['tpep_dropoff_datetime'])\n",
        "\n",
        "        # Derive new columns: trip duration and average speed\n",
        "        df['trip_duration'] = (df['tpep_dropoff_datetime'] - df['tpep_pickup_datetime']).dt.total_seconds() / 60\n",
        "        df['average_speed'] = df['trip_distance'] / df['trip_duration']\n",
        "\n",
        "        # Append the processed DataFrame to the list\n",
        "        dfs.append(df)\n",
        "\n",
        "# Concatenate the DataFrames into a single DataFrame\n",
        "df = pd.concat(dfs, ignore_index=True)\n",
        "\n",
        "print(f\"Final DataFrame shape: {df.shape}\")\n",
        "\n",
        "# Aggregate data to calculate total trips and average fare per day\n",
        "df['date'] = df['tpep_pickup_datetime'].dt.date\n",
        "daily_trips = df.groupby('date').size().reset_index(name='total_trips')\n",
        "daily_fare = df.groupby('date')['fare_amount'].mean().reset_index(name='average_fare')\n",
        "\n",
        "# Merge the daily trips and fare DataFrames\n",
        "daily_data = pd.merge(daily_trips, daily_fare, on='date')\n",
        "\n",
        "print(\"Data processing complete!\")\n",
        "print(daily_data.head())"
      ],
      "metadata": {
        "colab": {
          "base_uri": "https://localhost:8080/"
        },
        "id": "kTvoeOvcbC-y",
        "outputId": "3594a1af-42a4-4e09-b5fa-b962454298d7"
      },
      "execution_count": 10,
      "outputs": [
        {
          "output_type": "stream",
          "name": "stdout",
          "text": [
            "Processing data/yellow_tripdata_2019-08.csv...\n",
            "Initial DataFrame shape: (243, 19)\n",
            "DataFrame shape after dropping NA: (0, 19)\n",
            "Processing data/yellow_tripdata_2019-01.csv...\n",
            "Initial DataFrame shape: (243, 19)\n",
            "DataFrame shape after dropping NA: (0, 19)\n",
            "Processing data/yellow_tripdata_2019-04.csv...\n",
            "Initial DataFrame shape: (243, 19)\n",
            "DataFrame shape after dropping NA: (0, 19)\n",
            "Processing data/yellow_tripdata_2019-11.csv...\n",
            "Initial DataFrame shape: (243, 19)\n",
            "DataFrame shape after dropping NA: (0, 19)\n",
            "Processing data/yellow_tripdata_2019-07.csv...\n",
            "Initial DataFrame shape: (243, 19)\n",
            "DataFrame shape after dropping NA: (0, 19)\n",
            "Processing data/yellow_tripdata_2019-09.csv...\n",
            "Initial DataFrame shape: (243, 19)\n",
            "DataFrame shape after dropping NA: (0, 19)\n",
            "Processing data/yellow_tripdata_2019-05.csv...\n",
            "Initial DataFrame shape: (243, 19)\n",
            "DataFrame shape after dropping NA: (0, 19)\n",
            "Processing data/yellow_tripdata_2019-10.csv...\n",
            "Initial DataFrame shape: (243, 19)\n",
            "DataFrame shape after dropping NA: (0, 19)\n",
            "Processing data/yellow_tripdata_2019-03.csv...\n",
            "Initial DataFrame shape: (243, 19)\n",
            "DataFrame shape after dropping NA: (0, 19)\n",
            "Processing data/yellow_tripdata_2019-06.csv...\n",
            "Initial DataFrame shape: (243, 19)\n",
            "DataFrame shape after dropping NA: (0, 19)\n",
            "Processing data/yellow_tripdata_2019-12.csv...\n",
            "Initial DataFrame shape: (243, 19)\n",
            "DataFrame shape after dropping NA: (0, 19)\n",
            "Processing data/yellow_tripdata_2019-02.csv...\n",
            "Initial DataFrame shape: (243, 19)\n",
            "DataFrame shape after dropping NA: (0, 19)\n",
            "Final DataFrame shape: (0, 21)\n",
            "Data processing complete!\n",
            "Empty DataFrame\n",
            "Columns: [total_trips, date, average_fare]\n",
            "Index: []\n"
          ]
        }
      ]
    },
    {
      "cell_type": "code",
      "source": [
        "cursor.execute('''Drop table trips''')"
      ],
      "metadata": {
        "colab": {
          "base_uri": "https://localhost:8080/"
        },
        "id": "HpiD_7VqX9De",
        "outputId": "d97ff9a4-cc3e-4a21-d3b6-86de1e12776e"
      },
      "execution_count": 17,
      "outputs": [
        {
          "output_type": "execute_result",
          "data": {
            "text/plain": [
              "<sqlite3.Cursor at 0x7f851dd07940>"
            ]
          },
          "metadata": {},
          "execution_count": 17
        }
      ]
    },
    {
      "cell_type": "code",
      "source": [
        "import sqlite3\n",
        "\n",
        "# Create a connection to the database\n",
        "conn = sqlite3.connect('trips.db')\n",
        "\n",
        "# Create a cursor object\n",
        "cursor = conn.cursor()\n",
        "\n",
        "# Create the table\n",
        "\n",
        "cursor.execute('''\n",
        "    CREATE TABLE trips (\n",
        "        id INTEGER PRIMARY KEY,\n",
        "        vendor_id INTEGER,\n",
        "        pickup_datetime TEXT,\n",
        "        dropoff_datetime TEXT,\n",
        "        passenger_count INTEGER,\n",
        "        trip_distance REAL,\n",
        "        rate_code_id INTEGER,\n",
        "        store_and_fwd_flag TEXT,\n",
        "        pu_location_id INTEGER,\n",
        "        do_location_id INTEGER,\n",
        "        payment_type TEXT,\n",
        "        fare_amount REAL,\n",
        "        extra REAL,\n",
        "        ta_tax REAL,\n",
        "        tip_amount REAL,\n",
        "        tolls_amount REAL,\n",
        "        improvement_surcharge REAL,\n",
        "        total_amount REAL,\n",
        "        congestion_surcharge REAL,\n",
        "        airport_fee REAL\n",
        "    );\n",
        "''')\n",
        "\n",
        "# Load the data into the database\n",
        "df.to_sql('trips', conn, if_exists='replace', index=False)\n",
        "\n",
        "# Commit the changes\n",
        "conn.commit()\n",
        "\n",
        "# Close the connection\n",
        "# conn.close()"
      ],
      "metadata": {
        "id": "Efm0hhFNi73D"
      },
      "execution_count": 18,
      "outputs": []
    },
    {
      "cell_type": "code",
      "source": [
        "import matplotlib.pyplot as plt\n",
        "\n",
        "# Create a cursor object\n",
        "# cursor = conn.cursor()\n",
        "\n",
        "# Execute the SQL query\n",
        "cursor.execute(\"\"\"\n",
        "    SELECT\n",
        "        strftime('%H', tpep_pickup_datetime) AS hour,\n",
        "        COUNT(*) AS num_trips\n",
        "    FROM\n",
        "        trips\n",
        "    GROUP BY\n",
        "        hour\n",
        "    ORDER BY\n",
        "        num_trips DESC;\n",
        "\"\"\")\n",
        "\n",
        "# Fetch the results\n",
        "results = cursor.fetchall()\n",
        "\n",
        "# Create a bar chart\n",
        "hours = [row[0] for row in results]\n",
        "num_trips = [row[1] for row in results]\n",
        "plt.bar(hours, num_trips)\n",
        "plt.xlabel('Hour')\n",
        "plt.ylabel('Number of Trips')\n",
        "plt.title('Peak Hours for Taxi Usage')\n",
        "plt.show()\n"
      ],
      "metadata": {
        "id": "DSpWDsW3i98p",
        "colab": {
          "base_uri": "https://localhost:8080/",
          "height": 472
        },
        "outputId": "7982a1c5-5216-43f7-dda3-0a5c95025792"
      },
      "execution_count": 19,
      "outputs": [
        {
          "output_type": "display_data",
          "data": {
            "text/plain": [
              "<Figure size 640x480 with 1 Axes>"
            ],
            "image/png": "[encoded data removed]"
          },
          "metadata": {}
        }
      ]
    },
    {
      "cell_type": "code",
      "source": [
        "import seaborn as sns\n",
        "import matplotlib.pyplot as plt\n",
        "\n",
        "\n",
        "\n",
        "# Execute the SQL query\n",
        "cursor.execute(\"\"\"\n",
        "    SELECT\n",
        "        passenger_count,\n",
        "        AVG(fare_amount) AS avg_fare\n",
        "    FROM\n",
        "        trips\n",
        "    GROUP BY\n",
        "        passenger_count\n",
        "    ORDER BY\n",
        "        passenger_count;\n",
        "\"\"\")\n",
        "\n",
        "# Fetch the results\n",
        "results = cursor.fetchall()\n",
        "\n",
        "# Create a line plot\n",
        "passenger_counts = [row[0] for row in results]\n",
        "avg_fares = [row[1] for row in results]\n",
        "sns.lineplot(x=passenger_counts, y=avg_fares)\n",
        "plt.xlabel('Passenger Count')\n",
        "plt.ylabel('Average Fare')\n",
        "plt.title('Passenger Count vs. Trip Fare')\n",
        "plt.show()\n",
        "\n"
      ],
      "metadata": {
        "id": "7cUEJ_h4XA7-",
        "colab": {
          "base_uri": "https://localhost:8080/",
          "height": 472
        },
        "outputId": "7431d70d-61fc-4c35-fcd6-62ce6afe1204"
      },
      "execution_count": 20,
      "outputs": [
        {
          "output_type": "display_data",
          "data": {
            "text/plain": [
              "<Figure size 640x480 with 1 Axes>"
            ],
            "image/png": "[encoded data removed]"
          },
          "metadata": {}
        }
      ]
    },
    {
      "cell_type": "code",
      "source": [
        "import matplotlib.pyplot as plt\n",
        "\n",
        "\n",
        "\n",
        "# Execute the SQL query\n",
        "cursor.execute(\"\"\"\n",
        "    SELECT\n",
        "        strftime('%M',  tpep_pickup_datetime) AS month,\n",
        "        COUNT(*) AS num_trips\n",
        "    FROM\n",
        "        trips\n",
        "    GROUP BY\n",
        "        month\n",
        "    ORDER BY\n",
        "        month;\n",
        "\"\"\")\n",
        "\n",
        "# Fetch the results\n",
        "results = cursor.fetchall()\n",
        "\n",
        "# Create a line plot\n",
        "months = [row[0] for row in results]\n",
        "num_trips = [row[1] for row in results]\n",
        "plt.plot(months, num_trips)\n",
        "plt.xlabel('Month')\n",
        "plt.ylabel('Number of Trips')\n",
        "plt.title('Trends in Usage over the Year')\n",
        "plt.show()\n"
      ],
      "metadata": {
        "id": "whJA7-KxXjFO",
        "colab": {
          "base_uri": "https://localhost:8080/",
          "height": 472
        },
        "outputId": "6e4fd284-1514-4a37-9e69-81ce629b79f2"
      },
      "execution_count": 21,
      "outputs": [
        {
          "output_type": "display_data",
          "data": {
            "text/plain": [
              "<Figure size 640x480 with 1 Axes>"
            ],
            "image/png": "[encoded data removed]"
          },
          "metadata": {}
        }
      ]
    },
    {
      "cell_type": "code",
      "source": [
        "\n",
        "# Close the connection\n",
        "conn.close()"
      ],
      "metadata": {
        "id": "B2b8bz_yeA2V"
      },
      "execution_count": 22,
      "outputs": []
    },
    {
      "cell_type": "markdown",
      "source": [
        "Conclusion- As the data is in improper format therefore an empty data frame is returned and that leads to empty plots\n"
      ],
      "metadata": {
        "id": "yDT2-TDpePsU"
      }
    }
  ]
}